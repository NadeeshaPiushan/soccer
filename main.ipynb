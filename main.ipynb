{
 "cells": [
  {
   "cell_type": "code",
   "execution_count": 6,
   "id": "0065081e-328c-4ebe-b0b0-8deb2f2b785d",
   "metadata": {},
   "outputs": [],
   "source": [
    "import pandas as pd"
   ]
  },
  {
   "cell_type": "code",
   "execution_count": 7,
   "id": "178b067b-549f-4526-85e4-bb23dfd08f43",
   "metadata": {},
   "outputs": [],
   "source": [
    "import numpy as np\n"
   ]
  },
  {
   "cell_type": "code",
   "execution_count": 8,
   "id": "49ecde64-272b-429e-9a58-f1e8ef2e48e3",
   "metadata": {},
   "outputs": [],
   "source": [
    "data = pd.read_csv(\"champion_league_final.csv\")"
   ]
  },
  {
   "cell_type": "code",
   "execution_count": 9,
   "id": "a844bfa3-bb83-4bed-9cd1-54cb08b11cbc",
   "metadata": {
    "scrolled": true
   },
   "outputs": [
    {
     "name": "stdout",
     "output_type": "stream",
     "text": [
      "            Player   #   Nation    Pos     Age  Min  Cmp  Att  Cmp%  TotDist  \\\n",
      "0  Vinicius Júnior   7   br BRA  FW,LW  23-325   89   21   31  67.7      322   \n",
      "1    Lucas Vázquez  17   es ESP     FW  32-336    1    0    0   NaN        0   \n",
      "2          Rodrygo  11   br BRA  FW,RW  23-144   89   15   17  88.2      173   \n",
      "3     Éder Militão   3   br BRA     CB  26-135    1    0    0   NaN        0   \n",
      "4  Jude Bellingham   5  eng ENG     AM  20-338   84   30   36  83.3      413   \n",
      "\n",
      "   ...  Att.3  Cmp%.3  Ast  xAG   xA  KP  1/3  PPA  CrsPA  PrgP  \n",
      "0  ...      5    40.0    0  0.0  0.0   0    0    1      0     3  \n",
      "1  ...      0     NaN    0  0.0  0.0   0    0    0      0     0  \n",
      "2  ...      0     NaN    0  0.0  0.0   0    0    0      0     0  \n",
      "3  ...      0     NaN    0  0.0  0.0   0    0    0      0     0  \n",
      "4  ...      0     NaN    1  0.4  0.0   3    2    0      0     3  \n",
      "\n",
      "[5 rows x 28 columns]\n"
     ]
    }
   ],
   "source": [
    "print(data.head())"
   ]
  },
  {
   "cell_type": "code",
   "execution_count": 10,
   "id": "3693667f-14f9-4288-9701-6603530e2524",
   "metadata": {},
   "outputs": [
    {
     "name": "stdout",
     "output_type": "stream",
     "text": [
      "<class 'pandas.core.frame.DataFrame'>\n",
      "RangeIndex: 15 entries, 0 to 14\n",
      "Data columns (total 28 columns):\n",
      " #   Column   Non-Null Count  Dtype  \n",
      "---  ------   --------------  -----  \n",
      " 0   Player   15 non-null     object \n",
      " 1   #        15 non-null     int64  \n",
      " 2   Nation   15 non-null     object \n",
      " 3   Pos      15 non-null     object \n",
      " 4   Age      15 non-null     object \n",
      " 5   Min      15 non-null     int64  \n",
      " 6   Cmp      15 non-null     int64  \n",
      " 7   Att      15 non-null     int64  \n",
      " 8   Cmp%     13 non-null     float64\n",
      " 9   TotDist  15 non-null     int64  \n",
      " 10  PrgDist  15 non-null     int64  \n",
      " 11  Cmp.1    15 non-null     int64  \n",
      " 12  Att.1    15 non-null     int64  \n",
      " 13  Cmp%.1   13 non-null     float64\n",
      " 14  Cmp.2    15 non-null     int64  \n",
      " 15  Att.2    15 non-null     int64  \n",
      " 16  Cmp%.2   12 non-null     float64\n",
      " 17  Cmp.3    15 non-null     int64  \n",
      " 18  Att.3    15 non-null     int64  \n",
      " 19  Cmp%.3   9 non-null      float64\n",
      " 20  Ast      15 non-null     int64  \n",
      " 21  xAG      15 non-null     float64\n",
      " 22  xA       15 non-null     float64\n",
      " 23  KP       15 non-null     int64  \n",
      " 24  1/3      15 non-null     int64  \n",
      " 25  PPA      15 non-null     int64  \n",
      " 26  CrsPA    15 non-null     int64  \n",
      " 27  PrgP     15 non-null     int64  \n",
      "dtypes: float64(6), int64(18), object(4)\n",
      "memory usage: 3.4+ KB\n",
      "None\n"
     ]
    }
   ],
   "source": [
    "print(data.info())"
   ]
  }
 ],
 "metadata": {
  "kernelspec": {
   "display_name": "Python 3 (ipykernel)",
   "language": "python",
   "name": "python3"
  },
  "language_info": {
   "codemirror_mode": {
    "name": "ipython",
    "version": 3
   },
   "file_extension": ".py",
   "mimetype": "text/x-python",
   "name": "python",
   "nbconvert_exporter": "python",
   "pygments_lexer": "ipython3",
   "version": "3.12.1"
  }
 },
 "nbformat": 4,
 "nbformat_minor": 5
}
